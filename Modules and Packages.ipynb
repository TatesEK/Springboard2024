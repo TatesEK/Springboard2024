{
 "cells": [
  {
   "cell_type": "code",
   "execution_count": 5,
   "id": "670bc4ee-7236-4540-a143-62d93a0f2959",
   "metadata": {},
   "outputs": [
    {
     "ename": "ModuleNotFoundError",
     "evalue": "No module named 'demo_module'",
     "output_type": "error",
     "traceback": [
      "\u001b[1;31m---------------------------------------------------------------------------\u001b[0m",
      "\u001b[1;31mModuleNotFoundError\u001b[0m                       Traceback (most recent call last)",
      "Cell \u001b[1;32mIn[5], line 4\u001b[0m\n\u001b[0;32m      1\u001b[0m \u001b[38;5;28;01mdef\u001b[39;00m \u001b[38;5;21mmyModule\u001b[39m(name):\n\u001b[0;32m      2\u001b[0m     \u001b[38;5;28mprint\u001b[39m(\u001b[38;5;124m\"\u001b[39m\u001b[38;5;124mThis is My Module : \u001b[39m\u001b[38;5;124m\"\u001b[39m\u001b[38;5;241m+\u001b[39m name)\n\u001b[1;32m----> 4\u001b[0m \u001b[38;5;28;01mimport\u001b[39;00m \u001b[38;5;21;01mdemo_module\u001b[39;00m\n\u001b[0;32m      6\u001b[0m demo_module\u001b[38;5;241m.\u001b[39mmyModule(\u001b[38;5;124m\"\u001b[39m\u001b[38;5;124mMath\u001b[39m\u001b[38;5;124m\"\u001b[39m)\n",
      "\u001b[1;31mModuleNotFoundError\u001b[0m: No module named 'demo_module'"
     ]
    }
   ],
   "source": [
    "def myModule(name):\n",
    "    print(\"This is My Module : \"+ name)\n",
    "\n",
    "import demo_module\n",
    " \n",
    "demo_module.myModule(\"Math\")"
   ]
  },
  {
   "cell_type": "code",
   "execution_count": null,
   "id": "415171f1-cb13-4418-8ecf-1470db179614",
   "metadata": {},
   "outputs": [],
   "source": []
  }
 ],
 "metadata": {
  "kernelspec": {
   "display_name": "Python 3 (ipykernel)",
   "language": "python",
   "name": "python3"
  },
  "language_info": {
   "codemirror_mode": {
    "name": "ipython",
    "version": 3
   },
   "file_extension": ".py",
   "mimetype": "text/x-python",
   "name": "python",
   "nbconvert_exporter": "python",
   "pygments_lexer": "ipython3",
   "version": "3.11.7"
  }
 },
 "nbformat": 4,
 "nbformat_minor": 5
}
