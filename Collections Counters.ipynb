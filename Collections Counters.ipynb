{
 "cells": [
  {
   "cell_type": "code",
   "execution_count": 2,
   "id": "1a1a39db-ba3d-4412-9057-d1379cc4e730",
   "metadata": {},
   "outputs": [
    {
     "name": "stdout",
     "output_type": "stream",
     "text": [
      "Counter({'a': 2, 'l': 2, 'g': 1, 'r': 1, 'd': 1})\n",
      "Counter({'a': 2, 'c': 2, 'b': 1})\n",
      "Counter({'v': 2, 'a': 1})\n",
      "4\n"
     ]
    }
   ],
   "source": [
    "import collections\n",
    "from collections import Counter\n",
    "\n",
    "c = Counter('gallard')\n",
    "print(c)\n",
    "c = Counter(['a','a','b','c','c'])\n",
    "print(c)\n",
    "c = Counter ({'a':1, 'v':2})\n",
    "print(c)\n",
    "c = Counter(cats=4, dogs=7)\n",
    "print(c['cats'])"
   ]
  },
  {
   "cell_type": "code",
   "execution_count": 4,
   "id": "79ee9533-70c6-42fb-816e-2104537a197c",
   "metadata": {},
   "outputs": [
    {
     "name": "stdout",
     "output_type": "stream",
     "text": [
      "['cats', 'cats', 'cats', 'cats', 'dogs', 'dogs', 'dogs', 'dogs', 'dogs', 'dogs', 'dogs']\n"
     ]
    }
   ],
   "source": [
    "print(list(c.elements()))"
   ]
  },
  {
   "cell_type": "code",
   "execution_count": 5,
   "id": "6b6ce583-d767-4082-bf61-93484d6df27d",
   "metadata": {},
   "outputs": [
    {
     "name": "stdout",
     "output_type": "stream",
     "text": [
      "[('dogs', 7)]\n"
     ]
    }
   ],
   "source": [
    "print(c.most_common(1))"
   ]
  },
  {
   "cell_type": "code",
   "execution_count": 7,
   "id": "6146b933-76c3-49c2-8788-93732b0bba3c",
   "metadata": {},
   "outputs": [
    {
     "name": "stdout",
     "output_type": "stream",
     "text": [
      "Counter({'a': 3, 'b': 0, 'c': -1, 'd': -2})\n"
     ]
    }
   ],
   "source": [
    "c = Counter(a=4, b=2, c=0, d=-2)\n",
    "d = ['a', 'b', 'b', 'c']\n",
    "\n",
    "c.subtract(d)\n",
    "print(c)"
   ]
  },
  {
   "cell_type": "code",
   "execution_count": 8,
   "id": "ae92315d-c1f3-4890-9c34-ec2b91264abc",
   "metadata": {},
   "outputs": [
    {
     "name": "stdout",
     "output_type": "stream",
     "text": [
      "Counter({'a': 4, 'b': 2, 'c': 0, 'd': -2})\n"
     ]
    }
   ],
   "source": [
    "c.update(d)\n",
    "print(c)"
   ]
  },
  {
   "cell_type": "code",
   "execution_count": 9,
   "id": "2fcd260d-98e7-4642-8e56-de51f7a7c6f8",
   "metadata": {},
   "outputs": [
    {
     "name": "stdout",
     "output_type": "stream",
     "text": [
      "Counter()\n"
     ]
    }
   ],
   "source": [
    "c.clear()\n",
    "print(c)"
   ]
  },
  {
   "cell_type": "code",
   "execution_count": 10,
   "id": "c5ab2b8f-70b6-4ac5-bac8-49e14d8bc6f4",
   "metadata": {},
   "outputs": [
    {
     "name": "stdout",
     "output_type": "stream",
     "text": [
      "Counter({'a': 5, 'b': 4, 'c': 1})\n"
     ]
    }
   ],
   "source": [
    "c = Counter(a=4, b=2, c=0, d=-2)\n",
    "d = Counter(['a', 'b', 'b', 'c'])\n",
    "\n",
    "print(c+d)"
   ]
  },
  {
   "cell_type": "code",
   "execution_count": 11,
   "id": "d8d3c2fb-844b-412d-adf0-dd9a65ce3144",
   "metadata": {},
   "outputs": [
    {
     "name": "stdout",
     "output_type": "stream",
     "text": [
      "Counter({'a': 3})\n"
     ]
    }
   ],
   "source": [
    "print(c-d)"
   ]
  },
  {
   "cell_type": "code",
   "execution_count": 12,
   "id": "4175c10b-c775-4b77-8b97-cc0dba8088dd",
   "metadata": {},
   "outputs": [
    {
     "name": "stdout",
     "output_type": "stream",
     "text": [
      "Counter({'b': 2, 'a': 1})\n"
     ]
    }
   ],
   "source": [
    "print(c & d)"
   ]
  },
  {
   "cell_type": "code",
   "execution_count": 13,
   "id": "38b8ba6f-7dc1-47ce-a92c-d3820f526f04",
   "metadata": {},
   "outputs": [
    {
     "name": "stdout",
     "output_type": "stream",
     "text": [
      "Counter({'a': 4, 'b': 2, 'c': 1})\n"
     ]
    }
   ],
   "source": [
    "print(c|d)"
   ]
  },
  {
   "cell_type": "code",
   "execution_count": null,
   "id": "2ab7760b-d1f3-4db8-8d29-e75d312b5471",
   "metadata": {},
   "outputs": [],
   "source": []
  }
 ],
 "metadata": {
  "kernelspec": {
   "display_name": "Python 3 (ipykernel)",
   "language": "python",
   "name": "python3"
  },
  "language_info": {
   "codemirror_mode": {
    "name": "ipython",
    "version": 3
   },
   "file_extension": ".py",
   "mimetype": "text/x-python",
   "name": "python",
   "nbconvert_exporter": "python",
   "pygments_lexer": "ipython3",
   "version": "3.11.7"
  }
 },
 "nbformat": 4,
 "nbformat_minor": 5
}
