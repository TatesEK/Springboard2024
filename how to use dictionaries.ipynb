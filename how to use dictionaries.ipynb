{
 "cells": [
  {
   "cell_type": "code",
   "execution_count": 1,
   "id": "09b39d7e-5bc7-4611-9739-5e4b6d43a93d",
   "metadata": {},
   "outputs": [],
   "source": [
    "d = {}\n",
    "# d = {\"George\": 24, \"Tom: 32}"
   ]
  },
  {
   "cell_type": "code",
   "execution_count": null,
   "id": "65355903-a421-45fd-896d-a301e8361548",
   "metadata": {},
   "outputs": [],
   "source": []
  }
 ],
 "metadata": {
  "kernelspec": {
   "display_name": "Python 3 (ipykernel)",
   "language": "python",
   "name": "python3"
  },
  "language_info": {
   "codemirror_mode": {
    "name": "ipython",
    "version": 3
   },
   "file_extension": ".py",
   "mimetype": "text/x-python",
   "name": "python",
   "nbconvert_exporter": "python",
   "pygments_lexer": "ipython3",
   "version": "3.11.7"
  }
 },
 "nbformat": 4,
 "nbformat_minor": 5
}
