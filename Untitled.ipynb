{
 "cells": [
  {
   "cell_type": "code",
   "execution_count": 3,
   "id": "4d414d70-5bba-4e47-bed0-9ea9cbdf253e",
   "metadata": {},
   "outputs": [
    {
     "name": "stdout",
     "output_type": "stream",
     "text": [
      "21.0\n"
     ]
    }
   ],
   "source": [
    "def gcd(numberOne, numberTwo):\n",
    "    if numberTwo == 0:\n",
    "        return numberOne\n",
    "    return gcd(numberTwo, numberOne % numberTwo)\n",
    " \n",
    " \n",
    "def lcmNaive(numberOne, numberTwo):\n",
    "    lowestCommonMutliple = (numberOne * numberTwo) / gcd(numberOne, numberTwo)\n",
    "    return lowestCommonMutliple\n",
    "# This Code is Contributed by Chandrashekhar Robbi\n",
    " \n",
    "numberOne = 7\n",
    "numberTwo = 3\n",
    " \n",
    "print(lcmNaive(numberOne, numberTwo))"
   ]
  },
  {
   "cell_type": "code",
   "execution_count": null,
   "id": "9fc2ea26-215c-4fbe-b48e-9522f750b6e7",
   "metadata": {},
   "outputs": [],
   "source": []
  }
 ],
 "metadata": {
  "kernelspec": {
   "display_name": "Python 3 (ipykernel)",
   "language": "python",
   "name": "python3"
  },
  "language_info": {
   "codemirror_mode": {
    "name": "ipython",
    "version": 3
   },
   "file_extension": ".py",
   "mimetype": "text/x-python",
   "name": "python",
   "nbconvert_exporter": "python",
   "pygments_lexer": "ipython3",
   "version": "3.11.7"
  }
 },
 "nbformat": 4,
 "nbformat_minor": 5
}
