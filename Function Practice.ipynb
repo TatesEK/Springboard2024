{
 "cells": [
  {
   "cell_type": "code",
   "execution_count": 1,
   "id": "b0b08390-9539-4649-97af-1062e023114a",
   "metadata": {},
   "outputs": [],
   "source": [
    "def f() :\n",
    "    pass\n",
    "\n",
    "f()"
   ]
  },
  {
   "cell_type": "code",
   "execution_count": 2,
   "id": "61c6efd3-adf3-443d-bc7b-cfd4b55e6176",
   "metadata": {},
   "outputs": [
    {
     "data": {
      "text/plain": [
       "<function __main__.f()>"
      ]
     },
     "execution_count": 2,
     "metadata": {},
     "output_type": "execute_result"
    }
   ],
   "source": [
    "f"
   ]
  },
  {
   "cell_type": "code",
   "execution_count": 3,
   "id": "435d58a0-7451-4c30-be89-0f2807da4bc1",
   "metadata": {},
   "outputs": [
    {
     "data": {
      "text/plain": [
       "'Ping!'"
      ]
     },
     "execution_count": 3,
     "metadata": {},
     "output_type": "execute_result"
    }
   ],
   "source": [
    "def ping() :\n",
    "    return \"Ping!\"\n",
    "\n",
    "ping()"
   ]
  },
  {
   "cell_type": "code",
   "execution_count": 5,
   "id": "aaaff18f-01af-4212-8688-3042bdb8e19f",
   "metadata": {},
   "outputs": [
    {
     "name": "stdout",
     "output_type": "stream",
     "text": [
      "Ping!\n"
     ]
    }
   ],
   "source": [
    "def ping() :\n",
    "    return \"Ping!\"\n",
    "\n",
    "ping()\n",
    "x = ping()\n",
    "print(x)"
   ]
  },
  {
   "cell_type": "code",
   "execution_count": 6,
   "id": "75e2ea20-b0bc-43d2-8a3f-38610e28a8a4",
   "metadata": {},
   "outputs": [],
   "source": [
    "import math"
   ]
  },
  {
   "cell_type": "code",
   "execution_count": 8,
   "id": "6223870a-c8c8-43dd-965f-5167e075e5b8",
   "metadata": {},
   "outputs": [
    {
     "data": {
      "text/plain": [
       "33.510321638291124"
      ]
     },
     "execution_count": 8,
     "metadata": {},
     "output_type": "execute_result"
    }
   ],
   "source": [
    "def volume(r) :\n",
    "    # Returns the volume of a sphere with radius r\n",
    "    v = (4.0 / 3.0) * math.pi * r**3\n",
    "    return v\n",
    "\n",
    "volume(2)"
   ]
  },
  {
   "cell_type": "code",
   "execution_count": 10,
   "id": "cfadd866-b0e6-4c49-b84c-63d091a2bb5b",
   "metadata": {},
   "outputs": [],
   "source": [
    "def triangle_area(b, h) :\n",
    "    a = (b *.5) * h\n",
    "    return a"
   ]
  },
  {
   "cell_type": "code",
   "execution_count": 11,
   "id": "4d733a32-fa11-444e-908f-52f5e09187bd",
   "metadata": {},
   "outputs": [
    {
     "data": {
      "text/plain": [
       "20.0"
      ]
     },
     "execution_count": 11,
     "metadata": {},
     "output_type": "execute_result"
    }
   ],
   "source": [
    "triangle_area(5, 8)"
   ]
  },
  {
   "cell_type": "code",
   "execution_count": 12,
   "id": "f1cc9105-8050-4480-b3f0-19b4bf1ce7f0",
   "metadata": {},
   "outputs": [
    {
     "data": {
      "text/plain": [
       "9.0"
      ]
     },
     "execution_count": 12,
     "metadata": {},
     "output_type": "execute_result"
    }
   ],
   "source": [
    "triangle_area(3, 6)"
   ]
  },
  {
   "cell_type": "code",
   "execution_count": 16,
   "id": "83ccb964-c3c9-48b6-9791-0f4d0655fbfc",
   "metadata": {},
   "outputs": [
    {
     "data": {
      "text/plain": [
       "172.72"
      ]
     },
     "execution_count": 16,
     "metadata": {},
     "output_type": "execute_result"
    }
   ],
   "source": [
    "def height_conversion(feet = 0, inches = 0) :\n",
    "    cm = ((feet * 12) + inches) * 2.54\n",
    "    return cm\n",
    "\n",
    "height_conversion(5, 8)"
   ]
  },
  {
   "cell_type": "code",
   "execution_count": 22,
   "id": "cb11df3e-0aa5-45f3-946a-ce6d2aabc30b",
   "metadata": {},
   "outputs": [
    {
     "data": {
      "text/plain": [
       "8"
      ]
     },
     "execution_count": 22,
     "metadata": {},
     "output_type": "execute_result"
    }
   ],
   "source": [
    "input_list = [8, 9, 10]\n",
    "def return_first(input_list) :\n",
    "    return input_list[0]\n",
    "\n",
    "return_first(input_list)"
   ]
  },
  {
   "cell_type": "code",
   "execution_count": 21,
   "id": "682b1812-aceb-49a2-a15d-24d047f70c3e",
   "metadata": {},
   "outputs": [
    {
     "data": {
      "text/plain": [
       "5"
      ]
     },
     "execution_count": 21,
     "metadata": {},
     "output_type": "execute_result"
    }
   ],
   "source": [
    "input_list = [1, 2, 3, 4, 5]\n",
    "def return_max(input_list) :\n",
    "    return max(input_list)\n",
    "\n",
    "return_max(input_list)"
   ]
  },
  {
   "cell_type": "code",
   "execution_count": 23,
   "id": "72b31b20-d332-4c8a-b84c-104f084cad95",
   "metadata": {},
   "outputs": [
    {
     "data": {
      "text/plain": [
       "4"
      ]
     },
     "execution_count": 23,
     "metadata": {},
     "output_type": "execute_result"
    }
   ],
   "source": [
    "def return_max(input_list) :\n",
    "    return max(input_list)\n",
    "\n",
    "input_list = [1, 2, 3, 4]\n",
    "return_max(input_list)"
   ]
  },
  {
   "cell_type": "code",
   "execution_count": null,
   "id": "abdfa7a3-991a-468b-a874-bfccdf9cdce2",
   "metadata": {},
   "outputs": [],
   "source": []
  }
 ],
 "metadata": {
  "kernelspec": {
   "display_name": "Python 3 (ipykernel)",
   "language": "python",
   "name": "python3"
  },
  "language_info": {
   "codemirror_mode": {
    "name": "ipython",
    "version": 3
   },
   "file_extension": ".py",
   "mimetype": "text/x-python",
   "name": "python",
   "nbconvert_exporter": "python",
   "pygments_lexer": "ipython3",
   "version": "3.11.7"
  }
 },
 "nbformat": 4,
 "nbformat_minor": 5
}
